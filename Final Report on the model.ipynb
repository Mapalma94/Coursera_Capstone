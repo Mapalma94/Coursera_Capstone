{
 "cells": [
  {
   "cell_type": "markdown",
   "metadata": {},
   "source": [
    "<h1>Defining the problem</h1>"
   ]
  },
  {
   "cell_type": "markdown",
   "metadata": {},
   "source": [
    "<h6>A real state company has an important client that lives in a district located in the North of Madrid, and she asks to be advised about the most similar neighbourhood in the South of Spain´s capital, as she is planning to move closer to her job place but loves very much her neighbourhood</h6>"
   ]
  },
  {
   "cell_type": "markdown",
   "metadata": {},
   "source": [
    "<h6>The client tells us she is living in \"Tetuan\" District and she would like to move to one of the following neighbourhoods down south: Moratalaz, Retiro, Arganzuela</h6>\n",
    "<h6>So, considering the big amount of data and venues available in Foursquare, we will check statistically which one of the three neighbourhoods in the south of Madrid has similar amenities to \"Tetuan\" in the north, so we can propose a suitable area</h6>"
   ]
  },
  {
   "cell_type": "markdown",
   "metadata": {},
   "source": [
    "<h1>Describing data available</h1>"
   ]
  },
  {
   "cell_type": "markdown",
   "metadata": {},
   "source": [
    "<h6>Given the option to access the venues placed in each of these three neighborhoods using Foursquare API, we will scrap the data and analyse which kind of venues we have available in our currently and preferred neighborhood (Tetuán) and the candidate neighborhoods (Moratalaz, Retiro and Arganzuela). <br> <br>\n",
    "Once we have the data, we will define a Content Based Recommendation model. ¿What are the steps to make that posible?: <br>\n",
    "<ol>\n",
    "  <li>Defining the 4 Neighborhoods and their coordinates in a pandas dataframe</li>\n",
    "  <li>Getting the venues data with FourSquare API and storing them for each different Neighborhood</li>\n",
    "  <li>Processing the data:\n",
    "    <ul>\n",
    "      <li>Getting dummy variables from column \"Category of venue\"</li>\n",
    "      <li>Calculating frequence of ocurrence</li>\n",
    "      <li>Asuming our client gives maximum rating to her current Neighborhood</li>\n",
    "      <li>Based on the amenities her current Neighborhood has, calculating which of the three given areas is a similar choice</li>\n",
    "    </ul>\n",
    "</ol>\n",
    "    \n",
    "</h6>"
   ]
  },
  {
   "cell_type": "markdown",
   "metadata": {},
   "source": [
    "<h1>Commenting the results</h1>"
   ]
  },
  {
   "cell_type": "markdown",
   "metadata": {},
   "source": [
    "<h6>As we can see in the notebook attached, the most similar neighborhood to \"Tetuán\", the place where our client currently lives, is the Neighborhood of Retiro, after the Content Based Recommendation algorithm has been applied. The output of the model seems to be coherent with reality, given that the non-chosen target Neighborhoods are residential areas, while Retiro and Tetuan are near the comercial and business area of madrid, placed around the center.</h6>\n",
    "<h6>To make sure about that, lets again review top 10 most common places in each neighborhood:</h6>"
   ]
  },
  {
   "cell_type": "markdown",
   "metadata": {},
   "source": [
    "<h6>Retiro and Tetuan has lots of places to wine and dine, which might be the main preference of our client, while Arganzuela and Moratalaz have a bigger amount of amenities house-related such as Gyms, Bakeries, Grocery Stores, Playground and so on.</h6>\n",
    "<h6>So, in order to make a good Real Estate service to our client, we will discuss with her the results to make sure her future preferences are not going to change, (ie, she is not planning to start a family, because in that case Moratalaz might be a better fit) and Retiro will remain a good choice</h6>"
   ]
  }
 ],
 "metadata": {
  "kernelspec": {
   "display_name": "Python 3",
   "language": "python",
   "name": "python3"
  },
  "language_info": {
   "codemirror_mode": {
    "name": "ipython",
    "version": 3
   },
   "file_extension": ".py",
   "mimetype": "text/x-python",
   "name": "python",
   "nbconvert_exporter": "python",
   "pygments_lexer": "ipython3",
   "version": "3.8.5"
  }
 },
 "nbformat": 4,
 "nbformat_minor": 4
}
